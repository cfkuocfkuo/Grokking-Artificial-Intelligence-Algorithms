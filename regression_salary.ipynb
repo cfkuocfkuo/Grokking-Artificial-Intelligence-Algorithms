{
  "nbformat": 4,
  "nbformat_minor": 0,
  "metadata": {
    "colab": {
      "name": "regression salary.ipynb",
      "provenance": [],
      "collapsed_sections": [],
      "authorship_tag": "ABX9TyMORpO5D+2aJV5hbKecqKZv",
      "include_colab_link": true
    },
    "kernelspec": {
      "name": "python3",
      "display_name": "Python 3"
    }
  },
  "cells": [
    {
      "cell_type": "markdown",
      "metadata": {
        "id": "view-in-github",
        "colab_type": "text"
      },
      "source": [
        "<a href=\"https://colab.research.google.com/github/cfkuocfkuo/Grokking-Artificial-Intelligence-Algorithms/blob/master/regression_salary.ipynb\" target=\"_parent\"><img src=\"https://colab.research.google.com/assets/colab-badge.svg\" alt=\"Open In Colab\"/></a>"
      ]
    },
    {
      "cell_type": "code",
      "metadata": {
        "id": "6HztHZ1NS9pD",
        "colab_type": "code",
        "colab": {}
      },
      "source": [
        "import pandas as pd\n",
        "import matplotlib.pyplot as plt\n",
        "%matplotlib inline\n",
        "url = 'https://raw.github.com/neurospin/pystatsml/master/datasets/salary_table.csv'\n",
        "salary = pd.read_csv(url)"
      ],
      "execution_count": 0,
      "outputs": []
    },
    {
      "cell_type": "code",
      "metadata": {
        "id": "5XqePQSlT07q",
        "colab_type": "code",
        "colab": {}
      },
      "source": [
        "from scipy import stats\n",
        "import numpy as np\n",
        "y, x = salary.salary, salary.experience\n",
        "beta, beta0, r_value, p_value, std_err = stats.linregress(x,y)\n",
        "print(\"y = %f x + %f, r: %f, r-squared: %f,\\np-value: %f, std_err: %f\"\n",
        "% (beta, beta0, r_value, r_value**2, p_value, std_err))\n",
        "print(\"Regression line with the scatterplot\")\n",
        "yhat = beta * x + beta0 # regression line"
      ],
      "execution_count": 0,
      "outputs": []
    },
    {
      "cell_type": "code",
      "metadata": {
        "id": "MGTKnCC2T9zQ",
        "colab_type": "code",
        "colab": {}
      },
      "source": [
        "plt.plot(x, yhat, 'r-', x, y,'o')\n",
        "plt.xlabel('Experience (years)')\n",
        "plt.ylabel('Salary')\n",
        "plt.show()\n",
        "print(\"Using seaborn\")\n",
        "import seaborn as sns\n",
        "sns.regplot(x=\"experience\", y=\"salary\", data=salary);"
      ],
      "execution_count": 0,
      "outputs": []
    }
  ]
}